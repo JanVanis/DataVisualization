{
 "cells": [
  {
   "cell_type": "markdown",
   "metadata": {},
   "source": [
    "# When the market meltdown is a good thing\n",
    "\n",
    "### February is usually a zero-sum game for the US investors on the stock market. The February of 2018 was somehow different and triggered bad memories of 2008 as investors watched the Dow Jones index plummet as much as almost 9% within a week. Have we just experienced the long-awaited correction, or should we fear that the market is trying to tell us something much worse might be around the corner? Let's find out.\n",
    "\n",
    "#### What is this \"Dow\"?\n",
    "How can we measure the performance of the whole market, you may ask? For this purpose, several stock market indexes, including the Dow Jones Industrial Average index (\"the Dow\" for short), were created and are now used as the indicators of the stock market and sometimes are used as a proxy for the whole US economy.\n",
    "\n",
    "The Dow is stock market index composed of 30 significant American companies whose stocks are traded at the New York Stock Exchange and the Nasdaq (a global electronic marketplace). Invented back in 1896, the composition of the index changed a lot until today and continues to change to reflect shifts in the economy. Today, the index is composed of blue chips from diverse industries including Apple, JPMorgan Chase or McDonald's.\n",
    "\n",
    "The value of the Dow index is therefore derived from the prices of its components. It is price-weighted index meaning that stocks with higher prices are given a greater weight in the index. So, if an expensive stock such as the one of Boeing records an increase in its price, it will have a bigger impact on the value of the Dow than if a \"cheaper\" stock such as General Electric increases its value by the same amount. We can use the same logic to the case of a bear market of course.\n",
    "\n",
    "#### OK, so what happened to the Dow?\n",
    "To explain what happened in February to the Dow, we have to put things into perspective and look at the development of the index in the last 8 years. The Dow showed an 8-year consecutive growth on the year-to-year basis as the companies were recovering from the crisis. The outlook of the economy was getting better every year as did the expected earnings of the companies. Between June 2009 and January 2018, the Dow more than tripled its value peaking at 26,186 points. The cliché that the market goes up the staircase and down the elevator can be clearly seen from the following chart.\n",
    "\n",
    "<img src=\"DJIA2_long.pdf\", width=910, height=550>\n",
    "\n",
    "But then came February 2018 and the Dow experienced its worst month in 2 years. The stocks, after being within 3% of the all-time high for 202 straight days in 2017, fell dramatically and so did the index. In a nutshell, the Dow plummeted more than 2,300 points or 8.9% in just two weeks, bounced back and ended the month with more drama leaving it about 1,600 points below the record high in late January.\n",
    "\n",
    "<img src=\"DJIA2.pdf\", width=910, height=550>\n",
    "\n",
    "#### So, what is the market trying to say?\n",
    "Analysts always try to find explanation why the market or a particular stock is going up, sideways or in circles and the February meltdown was not an exception. Four reasons that what happened was just a market correction appeared among these analysts.\n",
    "\n",
    "First of all, we need to mention the interest rates or yields of Treasury Notes. The interest rates and stock markets tend to move in opposite directions. It looks like the era of extremely low interest rates is over and the new era of just low interest rates is here as the decisions of FED to raise the interest rates were reflected by the yields of US 10-Year Treasury Notes. The yields were expected to reach 3% by the end of 2018 but they reacted quickly than expected and by the end of February they were already at 2,86%. In other words, the bonds yields spiked as the result of increased interest rates by FED which was done to avoid higher inflation and the stock market reacted to that by declining.\n",
    "\n",
    "<img src=\"yields.pdf\", width=910, height=550>\n",
    "\n",
    "Secondly, there is the new FED chair. As Guy Adami, trader and co-host of Fast Money Five on CNBC, said: \"Markets like to test new FED chairs.\" which is a reference to the appointment of Jerome Powell as the new chair on February 5. This may sound like a coincidence, but we need to mention that Janet Yellen, now a former FED chair, mentioned in the last interview in the function that \"stocks are priced high\". Similar reaction of the market could have been seen with Yellen's appointment with the difference, that the correction wasn't as big.\n",
    "\n",
    "<img src=\"DJIA_FED.pdf\", width=910, height=550>\n",
    "\n",
    "Third reasoning focuses on the expected earnings of companies within the Dow. Earnings, expected earnings to be more precise, are the most important variable when it comes to stock prices. The whole market works on the basis of expectations and the outlook didn't change much during the sell-off.  So, nothing to be afraid of here either.\n",
    "\n",
    "Last but not least, we have the reasoning that \"it has been way too calm\". That is true for the stock market especially when we look at the 2016 and 2017 when the Dow gained 13.42% and 25.08% respectively with quite little volatility for such big gains. The market has been going through this so-called \"Trump Bump\". Since the presidential election on November 6, 2016, the Dow gained 37%. This was not even blown by events such as North Korea or Trump's tweets storms. But the Bump might have pushed the prices way to high and in February we rather saw a \"Trump Dump\".\n",
    "\n",
    "<img src=\"DJIA_Trump.pdf\", width=910, height=550>\n",
    "\n",
    "#### Winners and losers\n",
    "But it wasn't all doom and gloom for every stock in the Dow index in the last month. Triplet of tech companies within the index registered a positive change in their valuation in February. Cisco, Apple, and Intel are the winners as they beat the bearish market and gained 7.4%, 6.2% and 3.4% respectively from the beginning of the month. In fact, these companies were the only ones who ended February in black numbers\n",
    "\n",
    "The rest of the 27 companies in the Dow will not have good memories for the beginning of 2018. The worst performance was recorded by Exxon Mobile and Walmart, both losing about 15% of the value of their shares. Slightly behind is Verizon with the loss of -12%.\n",
    "\n",
    "<img src=\"AllCompanies2.pdf\", width=910, height=550>\n",
    "\n",
    "Now, you might think that because some stocks plummeted as much as 15%, this has to be inevitably a bad thing. But investors look at corrections as discounts - just instead buying your favorite clothes at sale, you buy companies. \"It's good that the market went down, I want to buy stocks when they are at sale. Who would buy stocks when they are at all time high? I'd rather buy at discount.\" says Michal Batnick of Ritholtz Wealth Management at the episode of The Indicator podcast. \n",
    "\n",
    "#### Wrap it up\n",
    "To sum up, nothing points to the fact that there might be a recession around the corner and some investors are actually quite happy about what happened. Markets sometimes need some time to calm down especially after such a long and remarkable period of bull market as we have been seeing for over 8 years now. In addition, the economy has still a great outlook, the labor market looks better than ever, the unemployment is at 4.1%, a 17-year low and economic growth is expected to gain steam in 2018. Jeremy Siegel, finance professor at the Wharton School, accurately summed up last month on the stock market in these words: \n",
    ">\"This is the momentum investors jumping off the train - they were riding it up, they had their stop orders and then they said we are going to sell now - this is what happened, it went up too far too fast. But it is nothing fundamental in the economy.\""
   ]
  },
  {
   "cell_type": "code",
   "execution_count": null,
   "metadata": {},
   "outputs": [],
   "source": []
  }
 ],
 "metadata": {
  "kernelspec": {
   "display_name": "R",
   "language": "R",
   "name": "ir"
  },
  "language_info": {
   "codemirror_mode": "r",
   "file_extension": ".r",
   "mimetype": "text/x-r-source",
   "name": "R",
   "pygments_lexer": "r",
   "version": "3.4.2"
  }
 },
 "nbformat": 4,
 "nbformat_minor": 2
}
